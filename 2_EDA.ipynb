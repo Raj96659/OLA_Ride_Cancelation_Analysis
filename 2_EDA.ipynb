{
 "cells": [
  {
   "cell_type": "code",
   "execution_count": 4,
   "id": "ffd03cee-6a58-4184-bc6b-9c61209bd5c7",
   "metadata": {},
   "outputs": [],
   "source": [
    "import pandas as pd\n",
    "import numpy as np\n",
    "import matplotlib.pyplot as plt\n",
    "import seaborn as sns"
   ]
  },
  {
   "cell_type": "code",
   "execution_count": 5,
   "id": "dafec3a0-b057-4c43-88bf-c010f2bfc696",
   "metadata": {},
   "outputs": [],
   "source": [
    "data = pd.read_csv('Final_Booking_Data.csv')"
   ]
  },
  {
   "cell_type": "code",
   "execution_count": 4,
   "id": "97c90848-9e88-42d2-965a-e405862d1d70",
   "metadata": {},
   "outputs": [
    {
     "data": {
      "text/html": [
       "<div>\n",
       "<style scoped>\n",
       "    .dataframe tbody tr th:only-of-type {\n",
       "        vertical-align: middle;\n",
       "    }\n",
       "\n",
       "    .dataframe tbody tr th {\n",
       "        vertical-align: top;\n",
       "    }\n",
       "\n",
       "    .dataframe thead th {\n",
       "        text-align: right;\n",
       "    }\n",
       "</style>\n",
       "<table border=\"1\" class=\"dataframe\">\n",
       "  <thead>\n",
       "    <tr style=\"text-align: right;\">\n",
       "      <th></th>\n",
       "      <th>Booking_ID</th>\n",
       "      <th>Customer_ID</th>\n",
       "      <th>Booking_Status</th>\n",
       "      <th>Vehicle_Type</th>\n",
       "      <th>Pickup_Location</th>\n",
       "      <th>Drop_Location</th>\n",
       "      <th>Ride_Distance</th>\n",
       "      <th>Only_Date</th>\n",
       "      <th>Month</th>\n",
       "      <th>Day_Name</th>\n",
       "      <th>...</th>\n",
       "      <th>Time_Slot</th>\n",
       "      <th>V_TAT</th>\n",
       "      <th>C_TAT</th>\n",
       "      <th>Canceled_Rides_by_Customer</th>\n",
       "      <th>Canceled_Rides_by_Driver</th>\n",
       "      <th>Incomplete_Rides</th>\n",
       "      <th>Booking_Value</th>\n",
       "      <th>Payment_Method</th>\n",
       "      <th>Driver_Ratings</th>\n",
       "      <th>Customer_Rating</th>\n",
       "    </tr>\n",
       "  </thead>\n",
       "  <tbody>\n",
       "    <tr>\n",
       "      <th>0</th>\n",
       "      <td>CNR7153255142</td>\n",
       "      <td>CID713523</td>\n",
       "      <td>Canceled by Driver</td>\n",
       "      <td>Prime Sedan</td>\n",
       "      <td>Tumkur Road</td>\n",
       "      <td>RT Nagar</td>\n",
       "      <td>0.0</td>\n",
       "      <td>2024-07-26</td>\n",
       "      <td>7</td>\n",
       "      <td>Friday</td>\n",
       "      <td>...</td>\n",
       "      <td>Afternoon</td>\n",
       "      <td>NaN</td>\n",
       "      <td>NaN</td>\n",
       "      <td>Reason not mentioned</td>\n",
       "      <td>Personal &amp; Car related issue</td>\n",
       "      <td>Nothing Mentioned</td>\n",
       "      <td>444.0</td>\n",
       "      <td>Not Provided</td>\n",
       "      <td>NaN</td>\n",
       "      <td>NaN</td>\n",
       "    </tr>\n",
       "    <tr>\n",
       "      <th>1</th>\n",
       "      <td>CNR2940424040</td>\n",
       "      <td>CID225428</td>\n",
       "      <td>Success</td>\n",
       "      <td>Bike</td>\n",
       "      <td>Magadi Road</td>\n",
       "      <td>Varthur</td>\n",
       "      <td>13.0</td>\n",
       "      <td>2024-07-25</td>\n",
       "      <td>7</td>\n",
       "      <td>Thursday</td>\n",
       "      <td>...</td>\n",
       "      <td>Night</td>\n",
       "      <td>203.0</td>\n",
       "      <td>30.0</td>\n",
       "      <td>Reason not mentioned</td>\n",
       "      <td>Reason not specified</td>\n",
       "      <td>No</td>\n",
       "      <td>158.0</td>\n",
       "      <td>Cash</td>\n",
       "      <td>4.1</td>\n",
       "      <td>4.0</td>\n",
       "    </tr>\n",
       "    <tr>\n",
       "      <th>2</th>\n",
       "      <td>CNR2982357879</td>\n",
       "      <td>CID270156</td>\n",
       "      <td>Success</td>\n",
       "      <td>Prime SUV</td>\n",
       "      <td>Sahakar Nagar</td>\n",
       "      <td>Varthur</td>\n",
       "      <td>40.0</td>\n",
       "      <td>2024-07-30</td>\n",
       "      <td>7</td>\n",
       "      <td>Tuesday</td>\n",
       "      <td>...</td>\n",
       "      <td>Evening</td>\n",
       "      <td>238.0</td>\n",
       "      <td>130.0</td>\n",
       "      <td>Reason not mentioned</td>\n",
       "      <td>Reason not specified</td>\n",
       "      <td>No</td>\n",
       "      <td>386.0</td>\n",
       "      <td>UPI</td>\n",
       "      <td>4.2</td>\n",
       "      <td>4.8</td>\n",
       "    </tr>\n",
       "    <tr>\n",
       "      <th>3</th>\n",
       "      <td>CNR2395710036</td>\n",
       "      <td>CID581320</td>\n",
       "      <td>Canceled by Customer</td>\n",
       "      <td>eBike</td>\n",
       "      <td>HSR Layout</td>\n",
       "      <td>Vijayanagar</td>\n",
       "      <td>0.0</td>\n",
       "      <td>2024-07-22</td>\n",
       "      <td>7</td>\n",
       "      <td>Monday</td>\n",
       "      <td>...</td>\n",
       "      <td>Night</td>\n",
       "      <td>NaN</td>\n",
       "      <td>NaN</td>\n",
       "      <td>Driver is not moving towards pickup location</td>\n",
       "      <td>Reason not specified</td>\n",
       "      <td>Nothing Mentioned</td>\n",
       "      <td>384.0</td>\n",
       "      <td>Not Provided</td>\n",
       "      <td>NaN</td>\n",
       "      <td>NaN</td>\n",
       "    </tr>\n",
       "    <tr>\n",
       "      <th>4</th>\n",
       "      <td>CNR1797421769</td>\n",
       "      <td>CID939555</td>\n",
       "      <td>Success</td>\n",
       "      <td>Mini</td>\n",
       "      <td>Rajajinagar</td>\n",
       "      <td>Chamarajpet</td>\n",
       "      <td>45.0</td>\n",
       "      <td>2024-07-02</td>\n",
       "      <td>7</td>\n",
       "      <td>Tuesday</td>\n",
       "      <td>...</td>\n",
       "      <td>Morning</td>\n",
       "      <td>252.0</td>\n",
       "      <td>80.0</td>\n",
       "      <td>Reason not mentioned</td>\n",
       "      <td>Reason not specified</td>\n",
       "      <td>No</td>\n",
       "      <td>822.0</td>\n",
       "      <td>Credit Card</td>\n",
       "      <td>4.0</td>\n",
       "      <td>3.0</td>\n",
       "    </tr>\n",
       "  </tbody>\n",
       "</table>\n",
       "<p>5 rows × 23 columns</p>\n",
       "</div>"
      ],
      "text/plain": [
       "      Booking_ID Customer_ID        Booking_Status Vehicle_Type  \\\n",
       "0  CNR7153255142   CID713523    Canceled by Driver  Prime Sedan   \n",
       "1  CNR2940424040   CID225428               Success         Bike   \n",
       "2  CNR2982357879   CID270156               Success    Prime SUV   \n",
       "3  CNR2395710036   CID581320  Canceled by Customer        eBike   \n",
       "4  CNR1797421769   CID939555               Success         Mini   \n",
       "\n",
       "  Pickup_Location Drop_Location  Ride_Distance   Only_Date  Month  Day_Name  \\\n",
       "0     Tumkur Road      RT Nagar            0.0  2024-07-26      7    Friday   \n",
       "1     Magadi Road       Varthur           13.0  2024-07-25      7  Thursday   \n",
       "2   Sahakar Nagar       Varthur           40.0  2024-07-30      7   Tuesday   \n",
       "3      HSR Layout   Vijayanagar            0.0  2024-07-22      7    Monday   \n",
       "4     Rajajinagar   Chamarajpet           45.0  2024-07-02      7   Tuesday   \n",
       "\n",
       "   ...  Time_Slot  V_TAT  C_TAT                    Canceled_Rides_by_Customer  \\\n",
       "0  ...  Afternoon    NaN    NaN                          Reason not mentioned   \n",
       "1  ...      Night  203.0   30.0                          Reason not mentioned   \n",
       "2  ...    Evening  238.0  130.0                          Reason not mentioned   \n",
       "3  ...      Night    NaN    NaN  Driver is not moving towards pickup location   \n",
       "4  ...    Morning  252.0   80.0                          Reason not mentioned   \n",
       "\n",
       "       Canceled_Rides_by_Driver   Incomplete_Rides Booking_Value  \\\n",
       "0  Personal & Car related issue  Nothing Mentioned         444.0   \n",
       "1          Reason not specified                 No         158.0   \n",
       "2          Reason not specified                 No         386.0   \n",
       "3          Reason not specified  Nothing Mentioned         384.0   \n",
       "4          Reason not specified                 No         822.0   \n",
       "\n",
       "  Payment_Method Driver_Ratings  Customer_Rating  \n",
       "0   Not Provided            NaN              NaN  \n",
       "1           Cash            4.1              4.0  \n",
       "2            UPI            4.2              4.8  \n",
       "3   Not Provided            NaN              NaN  \n",
       "4    Credit Card            4.0              3.0  \n",
       "\n",
       "[5 rows x 23 columns]"
      ]
     },
     "execution_count": 4,
     "metadata": {},
     "output_type": "execute_result"
    }
   ],
   "source": [
    "data.head()"
   ]
  },
  {
   "cell_type": "markdown",
   "id": "cd764fcf-11fb-4dda-96b9-5e0484966e46",
   "metadata": {},
   "source": [
    "<h1>1. Booking Status Distribution</h1>"
   ]
  },
  {
   "cell_type": "code",
   "execution_count": 16,
   "id": "c94685a7-dc43-4e7e-89af-970178082dc8",
   "metadata": {},
   "outputs": [
    {
     "data": {
      "text/plain": [
       "Booking_Status\n",
       "Success                 44271\n",
       "Canceled by Driver      12728\n",
       "Canceled by Customer     7214\n",
       "Driver Not Found         6988\n",
       "Name: count, dtype: int64"
      ]
     },
     "execution_count": 16,
     "metadata": {},
     "output_type": "execute_result"
    }
   ],
   "source": [
    "data['Booking_Status'].value_counts()"
   ]
  },
  {
   "cell_type": "code",
   "execution_count": 13,
   "id": "7309c220-d027-4725-9b38-6dc691f2520c",
   "metadata": {},
   "outputs": [],
   "source": [
    "plt.style.use(\"ggplot\")\n",
    "sns.set_palette(\"Set2\")"
   ]
  },
  {
   "cell_type": "code",
   "execution_count": 14,
   "id": "626601e3-38e1-4a11-badf-24672ddb278c",
   "metadata": {},
   "outputs": [
    {
     "data": {
      "image/png": "[encoded data removed]",
      "text/plain": [
       "<Figure size 600x400 with 1 Axes>"
      ]
     },
     "metadata": {},
     "output_type": "display_data"
    }
   ],
   "source": [
    "plt.figure(figsize=(6, 4))\n",
    "data['Booking_Status'].value_counts().plot(kind='bar')\n",
    "plt.title(\"Booking Status Distribution\")\n",
    "plt.xlabel(\"Status\")\n",
    "plt.ylabel(\"Count\")\n",
    "plt.tight_layout()\n",
    "plt.show()\n"
   ]
  },
  {
   "cell_type": "markdown",
   "id": "fe580ab3-5bc6-4141-88c2-e86454a13504",
   "metadata": {},
   "source": [
    "<h5>Insights You Can Use:</h5>\n",
    "<p>\n",
    "1. ~38% of rides fail to complete – a major opportunity for improvement!</p>\n",
    "<p>2. Driver-side issues (cancellations + unavailability) account for nearly 28% of all bookings.</p>\n",
    "<p>3. Customer-side cancellations make up ~10%.\n",
    "</p>"
   ]
  },
  {
   "cell_type": "markdown",
   "id": "a226a392-37be-4cac-a816-8de7062e877b",
   "metadata": {},
   "source": [
    "<h1>2. Cancellations by Time Slot</h1>"
   ]
  },
  {
   "cell_type": "code",
   "execution_count": 9,
   "id": "a8b65706-70dd-48f9-9c93-700782932b22",
   "metadata": {},
   "outputs": [],
   "source": [
    "cancelled_rides = data[data['Booking_Status'] != 'Success']"
   ]
  },
  {
   "cell_type": "code",
   "execution_count": 23,
   "id": "5d8257c4-9b55-42f3-8b96-4ad22004ed98",
   "metadata": {},
   "outputs": [
    {
     "data": {
      "text/plain": [
       "Time_Slot\n",
       "Night        8948\n",
       "Morning      7893\n",
       "Afternoon    5574\n",
       "Evening      4515\n",
       "Name: count, dtype: int64"
      ]
     },
     "execution_count": 23,
     "metadata": {},
     "output_type": "execute_result"
    }
   ],
   "source": [
    "cancelled_rides['Time_Slot'].value_counts()"
   ]
  },
  {
   "cell_type": "code",
   "execution_count": 25,
   "id": "858c2dbd-7897-47fe-bbf5-56e207f9934c",
   "metadata": {},
   "outputs": [
    {
     "data": {
      "image/png": "[encoded data removed]",
      "text/plain": [
       "<Figure size 600x400 with 1 Axes>"
      ]
     },
     "metadata": {},
     "output_type": "display_data"
    }
   ],
   "source": [
    "plt.figure(figsize=(6, 4))\n",
    "cancelled_rides['Time_Slot'].value_counts().plot(kind='bar')\n",
    "plt.title(\"Cancellations by Time Slot\")\n",
    "plt.xlabel(\"Time Slot\")\n",
    "plt.ylabel(\"Cancelled Rides\")\n",
    "plt.tight_layout()\n",
    "plt.show()"
   ]
  },
  {
   "cell_type": "markdown",
   "id": "00a19e8c-cb89-40c8-9dd9-22b60d149e9a",
   "metadata": {},
   "source": [
    "<h4>Insights : </h4>\n",
    "<p>Night and Morning have the highest cancellations 64.7% possibly due to:</p>\n",
    "<p>Driver unavailability</p>\n",
    "<p>Safety concerns</p>\n",
    "<p>Traffic/operational delays</p>\n"
   ]
  },
  {
   "cell_type": "markdown",
   "id": "ccf49720-a3c1-4256-8cb1-50a8f6f125ac",
   "metadata": {},
   "source": [
    "<h1>3. Cancellations by Day</h1>"
   ]
  },
  {
   "cell_type": "code",
   "execution_count": 32,
   "id": "04b2beeb-9c42-4d85-b7b8-2d86b99cb736",
   "metadata": {},
   "outputs": [
    {
     "data": {
      "text/plain": [
       "Day_Name\n",
       "Monday       4572\n",
       "Tuesday      4553\n",
       "Wednesday    3635\n",
       "Saturday     3570\n",
       "Friday       3565\n",
       "Thursday     3563\n",
       "Sunday       3472\n",
       "Name: count, dtype: int64"
      ]
     },
     "execution_count": 32,
     "metadata": {},
     "output_type": "execute_result"
    }
   ],
   "source": [
    "cancelled_rides['Day_Name'].value_counts()"
   ]
  },
  {
   "cell_type": "code",
   "execution_count": 34,
   "id": "34dd003e-3f6b-48d8-9b53-7fd2a0302923",
   "metadata": {},
   "outputs": [
    {
     "data": {
      "image/png": "[encoded data removed]",
      "text/plain": [
       "<Figure size 600x400 with 1 Axes>"
      ]
     },
     "metadata": {},
     "output_type": "display_data"
    }
   ],
   "source": [
    "plt.figure(figsize=(6,4))\n",
    "cancelled_rides['Day_Name'].value_counts().plot(kind='bar')\n",
    "plt.title('Cancellations by Day of the Week')\n",
    "plt.xlabel('Day')\n",
    "plt.ylabel('Cancelled Rides')\n",
    "plt.tight_layout()\n",
    "plt.show()"
   ]
  },
  {
   "cell_type": "markdown",
   "id": "adc420f6-8477-4f06-8ae8-d7e401cbccef",
   "metadata": {},
   "source": [
    "<h4>Insights : </h4>\n",
    "<p>Weekdays dominate cancellations, especially Monday and Tuesday.</p>\n",
    "<p>Monday = highest — possibly due to:</p>\n",
    "<p>Rush hour traffic</p>\n",
    "<p>Start-of-week operational lags</p>\n",
    "<p>Driver fatigue after the weekend</p>"
   ]
  },
  {
   "cell_type": "markdown",
   "id": "50d08d38-2755-4906-a80a-08b0da59b595",
   "metadata": {},
   "source": [
    "<h1>4. Cancellation by weekend vs weekday</h1>"
   ]
  },
  {
   "cell_type": "code",
   "execution_count": 33,
   "id": "2d030264-0759-4c23-aa03-c522191764f2",
   "metadata": {},
   "outputs": [
    {
     "data": {
      "text/plain": [
       "IS_WEEKEND\n",
       "0    19888\n",
       "1     7042\n",
       "Name: count, dtype: int64"
      ]
     },
     "execution_count": 33,
     "metadata": {},
     "output_type": "execute_result"
    }
   ],
   "source": [
    "cancelled_rides['IS_WEEKEND'].value_counts()"
   ]
  },
  {
   "cell_type": "code",
   "execution_count": 38,
   "id": "ed8fd6a6-5e2b-4c39-83fa-aa88170a14dd",
   "metadata": {},
   "outputs": [
    {
     "data": {
      "image/png": "[encoded data removed]",
      "text/plain": [
       "<Figure size 600x400 with 1 Axes>"
      ]
     },
     "metadata": {},
     "output_type": "display_data"
    }
   ],
   "source": [
    "labels = ['Weekday (Mon–Fri)', 'Weekend (Sat–Sun)']\n",
    "plt.figure(figsize=(6,4))\n",
    "cancelled_rides['IS_WEEKEND'].value_counts().plot(kind='pie',labels=labels)\n",
    "plt.title(\"Cancelled Rides: Weekday vs Weekend\")\n",
    "plt.tight_layout()\n",
    "plt.show()"
   ]
  },
  {
   "cell_type": "markdown",
   "id": "f5886b21-cfb5-49ad-b29c-38fd276edfb5",
   "metadata": {},
   "source": [
    "<h4>Insights : </h4>\n",
    "<p>Weekdays have almost 3× more cancellations than weekends.</p>\n",
    "<p>Weekdays : 73.9%</p>\n",
    "<p>Weekend : 26.1%</p>"
   ]
  },
  {
   "cell_type": "markdown",
   "id": "d8f506af-cefd-468a-9064-2b9e8641b2d1",
   "metadata": {},
   "source": [
    "<h1>5. Cancellation Reason Breakdown</h1>"
   ]
  },
  {
   "cell_type": "code",
   "execution_count": 47,
   "id": "a936198a-7ce6-4e14-9e56-f767fffbab99",
   "metadata": {},
   "outputs": [
    {
     "data": {
      "text/plain": [
       "Booking_Status\n",
       "Canceled by Driver      12728\n",
       "Canceled by Customer     7214\n",
       "Driver Not Found         6988\n",
       "Name: count, dtype: int64"
      ]
     },
     "execution_count": 47,
     "metadata": {},
     "output_type": "execute_result"
    }
   ],
   "source": [
    "cancelled_rides['Booking_Status'].value_counts()"
   ]
  },
  {
   "cell_type": "code",
   "execution_count": 49,
   "id": "5673c0ea-2c4d-43b3-a455-e0c8151cd699",
   "metadata": {},
   "outputs": [
    {
     "data": {
      "image/png": "[encoded data removed]",
      "text/plain": [
       "<Figure size 600x400 with 1 Axes>"
      ]
     },
     "metadata": {},
     "output_type": "display_data"
    }
   ],
   "source": [
    "plt.figure(figsize=(6,4))\n",
    "cancelled_rides['Booking_Status'].value_counts().plot(kind='bar')\n",
    "plt.title(\"Cancellation Reasons Breakdown\")\n",
    "plt.xlabel('Who Canceled')\n",
    "plt.ylabel('Cancelation count')\n",
    "plt.tight_layout()\n",
    "plt.show()"
   ]
  },
  {
   "cell_type": "markdown",
   "id": "0d9e5440-d0d9-43e2-8e3a-2e4f9ba157a7",
   "metadata": {},
   "source": [
    "<h4>Insights : </h4>\n",
    "<p>Drivers are responsible for nearly half of all cancellations.</p>\n",
    "<p>Driver Not Found also likely points to supply-side problems.</p>\n",
    "<p>Combined, driver-side issues account for 73.2% of failed bookings.</p>\n",
    "<p>This is a key business insight for Ola or similar platforms.</p>"
   ]
  },
  {
   "cell_type": "markdown",
   "id": "01558ebf-9cff-4316-b076-3b1dd2bfb8cb",
   "metadata": {},
   "source": [
    "<h1>Customers Reasons to Cancel Ride</h1>"
   ]
  },
  {
   "cell_type": "code",
   "execution_count": 61,
   "id": "36bc8488-c611-4335-bb23-700af84dab91",
   "metadata": {},
   "outputs": [
    {
     "data": {
      "text/plain": [
       "Canceled_Rides_by_Customer\n",
       "Driver is not moving towards pickup location    2161\n",
       "Driver asked to cancel                          1851\n",
       "Change of plans                                 1469\n",
       "AC is Not working                               1055\n",
       "Wrong Address                                    678\n",
       "Name: count, dtype: int64"
      ]
     },
     "execution_count": 61,
     "metadata": {},
     "output_type": "execute_result"
    }
   ],
   "source": [
    "cancelled_rides['Canceled_Rides_by_Customer'].value_counts().iloc[1:]"
   ]
  },
  {
   "cell_type": "markdown",
   "id": "9918edbe-68b3-4798-8135-44b3ee6bd5fa",
   "metadata": {},
   "source": [
    "<h4></h4>\n",
    "<p>Driver behavior & app experience are top reasons for customer cancellations.</p>\n",
    "\n",
    "<p>Several of these reasons (AC issues, driver refusal, wrong address) are actionable by Ola.</p>\n",
    "\n",
    "<p>More than 50% of these are preventable with system improvements.</p>"
   ]
  },
  {
   "cell_type": "markdown",
   "id": "3d38e42b-33a7-4592-bda7-7ed63eb55fab",
   "metadata": {},
   "source": [
    "<h1>Drivers Reason to Cancel Ride</h1>"
   ]
  },
  {
   "cell_type": "code",
   "execution_count": 60,
   "id": "0528d059-317e-4bd3-8baf-c983b4e15dd8",
   "metadata": {},
   "outputs": [
    {
     "data": {
      "text/plain": [
       "Canceled_Rides_by_Driver\n",
       "Personal & Car related issue           4449\n",
       "Customer related issue                 3752\n",
       "Customer was coughing/sick             2538\n",
       "More than permitted people in there    1989\n",
       "Name: count, dtype: int64"
      ]
     },
     "execution_count": 60,
     "metadata": {},
     "output_type": "execute_result"
    }
   ],
   "source": [
    "cancelled_rides['Canceled_Rides_by_Driver'].value_counts().iloc[1:]"
   ]
  },
  {
   "cell_type": "markdown",
   "id": "7cfe65b6-d4d6-4eba-8d5f-4124615645a4",
   "metadata": {},
   "source": [
    "<p>Many issues are driver-protection-based, especially post-COVID.</p>\n",
    "<p>Almost 60% of these are related to either personal or customer behavior.</p>\n",
    "<p>Suggests need for:</p>\n",
    "<p>Better communication before ride</p>\n",
    "<p>Health declarations during high-risk times</p>"
   ]
  },
  {
   "cell_type": "code",
   "execution_count": 78,
   "id": "0b3255c7-4018-4f65-ba2f-1b02bcfdf46c",
   "metadata": {},
   "outputs": [
    {
     "data": {
      "text/plain": [
       "Index(['Booking_ID', 'Customer_ID', 'Booking_Status', 'Vehicle_Type',\n",
       "       'Pickup_Location', 'Drop_Location', 'Ride_Distance', 'Only_Date',\n",
       "       'Month', 'Day_Name', 'IS_WEEKEND', 'Hour', 'Time', 'Time_Slot', 'V_TAT',\n",
       "       'C_TAT', 'Canceled_Rides_by_Customer', 'Canceled_Rides_by_Driver',\n",
       "       'Incomplete_Rides', 'Booking_Value', 'Payment_Method', 'Driver_Ratings',\n",
       "       'Customer_Rating'],\n",
       "      dtype='object')"
      ]
     },
     "execution_count": 78,
     "metadata": {},
     "output_type": "execute_result"
    }
   ],
   "source": [
    "data.columns"
   ]
  },
  {
   "cell_type": "code",
   "execution_count": 87,
   "id": "b9b9c12c-c706-482d-8f6f-6f2910cc3949",
   "metadata": {},
   "outputs": [
    {
     "data": {
      "text/plain": [
       "Payment_Method\n",
       "Not Provided    26930\n",
       "Cash            24166\n",
       "UPI             17974\n",
       "Credit Card      1683\n",
       "Debit Card        448\n",
       "Name: count, dtype: int64"
      ]
     },
     "execution_count": 87,
     "metadata": {},
     "output_type": "execute_result"
    }
   ],
   "source": [
    "data['Payment_Method'].value_counts()"
   ]
  },
  {
   "cell_type": "code",
   "execution_count": 88,
   "id": "ca149d39-79aa-46f7-a51f-2c87b9a591c2",
   "metadata": {},
   "outputs": [
    {
     "data": {
      "text/html": [
       "<div>\n",
       "<style scoped>\n",
       "    .dataframe tbody tr th:only-of-type {\n",
       "        vertical-align: middle;\n",
       "    }\n",
       "\n",
       "    .dataframe tbody tr th {\n",
       "        vertical-align: top;\n",
       "    }\n",
       "\n",
       "    .dataframe thead th {\n",
       "        text-align: right;\n",
       "    }\n",
       "</style>\n",
       "<table border=\"1\" class=\"dataframe\">\n",
       "  <thead>\n",
       "    <tr style=\"text-align: right;\">\n",
       "      <th></th>\n",
       "      <th>Booking_ID</th>\n",
       "      <th>Customer_ID</th>\n",
       "      <th>Booking_Status</th>\n",
       "      <th>Vehicle_Type</th>\n",
       "      <th>Pickup_Location</th>\n",
       "      <th>Drop_Location</th>\n",
       "      <th>Ride_Distance</th>\n",
       "      <th>Only_Date</th>\n",
       "      <th>Month</th>\n",
       "      <th>Day_Name</th>\n",
       "      <th>...</th>\n",
       "      <th>Time_Slot</th>\n",
       "      <th>V_TAT</th>\n",
       "      <th>C_TAT</th>\n",
       "      <th>Canceled_Rides_by_Customer</th>\n",
       "      <th>Canceled_Rides_by_Driver</th>\n",
       "      <th>Incomplete_Rides</th>\n",
       "      <th>Booking_Value</th>\n",
       "      <th>Payment_Method</th>\n",
       "      <th>Driver_Ratings</th>\n",
       "      <th>Customer_Rating</th>\n",
       "    </tr>\n",
       "  </thead>\n",
       "  <tbody>\n",
       "    <tr>\n",
       "      <th>0</th>\n",
       "      <td>CNR7153255142</td>\n",
       "      <td>CID713523</td>\n",
       "      <td>Canceled by Driver</td>\n",
       "      <td>Prime Sedan</td>\n",
       "      <td>Tumkur Road</td>\n",
       "      <td>RT Nagar</td>\n",
       "      <td>0.0</td>\n",
       "      <td>2024-07-26</td>\n",
       "      <td>7</td>\n",
       "      <td>Friday</td>\n",
       "      <td>...</td>\n",
       "      <td>Afternoon</td>\n",
       "      <td>NaN</td>\n",
       "      <td>NaN</td>\n",
       "      <td>Reason not mentioned</td>\n",
       "      <td>Personal &amp; Car related issue</td>\n",
       "      <td>Nothing Mentioned</td>\n",
       "      <td>444.0</td>\n",
       "      <td>Not Provided</td>\n",
       "      <td>NaN</td>\n",
       "      <td>NaN</td>\n",
       "    </tr>\n",
       "    <tr>\n",
       "      <th>1</th>\n",
       "      <td>CNR2940424040</td>\n",
       "      <td>CID225428</td>\n",
       "      <td>Success</td>\n",
       "      <td>Bike</td>\n",
       "      <td>Magadi Road</td>\n",
       "      <td>Varthur</td>\n",
       "      <td>13.0</td>\n",
       "      <td>2024-07-25</td>\n",
       "      <td>7</td>\n",
       "      <td>Thursday</td>\n",
       "      <td>...</td>\n",
       "      <td>Night</td>\n",
       "      <td>203.0</td>\n",
       "      <td>30.0</td>\n",
       "      <td>Reason not mentioned</td>\n",
       "      <td>Reason not specified</td>\n",
       "      <td>No</td>\n",
       "      <td>158.0</td>\n",
       "      <td>Cash</td>\n",
       "      <td>4.1</td>\n",
       "      <td>4.0</td>\n",
       "    </tr>\n",
       "    <tr>\n",
       "      <th>2</th>\n",
       "      <td>CNR2982357879</td>\n",
       "      <td>CID270156</td>\n",
       "      <td>Success</td>\n",
       "      <td>Prime SUV</td>\n",
       "      <td>Sahakar Nagar</td>\n",
       "      <td>Varthur</td>\n",
       "      <td>40.0</td>\n",
       "      <td>2024-07-30</td>\n",
       "      <td>7</td>\n",
       "      <td>Tuesday</td>\n",
       "      <td>...</td>\n",
       "      <td>Evening</td>\n",
       "      <td>238.0</td>\n",
       "      <td>130.0</td>\n",
       "      <td>Reason not mentioned</td>\n",
       "      <td>Reason not specified</td>\n",
       "      <td>No</td>\n",
       "      <td>386.0</td>\n",
       "      <td>UPI</td>\n",
       "      <td>4.2</td>\n",
       "      <td>4.8</td>\n",
       "    </tr>\n",
       "    <tr>\n",
       "      <th>3</th>\n",
       "      <td>CNR2395710036</td>\n",
       "      <td>CID581320</td>\n",
       "      <td>Canceled by Customer</td>\n",
       "      <td>eBike</td>\n",
       "      <td>HSR Layout</td>\n",
       "      <td>Vijayanagar</td>\n",
       "      <td>0.0</td>\n",
       "      <td>2024-07-22</td>\n",
       "      <td>7</td>\n",
       "      <td>Monday</td>\n",
       "      <td>...</td>\n",
       "      <td>Night</td>\n",
       "      <td>NaN</td>\n",
       "      <td>NaN</td>\n",
       "      <td>Driver is not moving towards pickup location</td>\n",
       "      <td>Reason not specified</td>\n",
       "      <td>Nothing Mentioned</td>\n",
       "      <td>384.0</td>\n",
       "      <td>Not Provided</td>\n",
       "      <td>NaN</td>\n",
       "      <td>NaN</td>\n",
       "    </tr>\n",
       "    <tr>\n",
       "      <th>4</th>\n",
       "      <td>CNR1797421769</td>\n",
       "      <td>CID939555</td>\n",
       "      <td>Success</td>\n",
       "      <td>Mini</td>\n",
       "      <td>Rajajinagar</td>\n",
       "      <td>Chamarajpet</td>\n",
       "      <td>45.0</td>\n",
       "      <td>2024-07-02</td>\n",
       "      <td>7</td>\n",
       "      <td>Tuesday</td>\n",
       "      <td>...</td>\n",
       "      <td>Morning</td>\n",
       "      <td>252.0</td>\n",
       "      <td>80.0</td>\n",
       "      <td>Reason not mentioned</td>\n",
       "      <td>Reason not specified</td>\n",
       "      <td>No</td>\n",
       "      <td>822.0</td>\n",
       "      <td>Credit Card</td>\n",
       "      <td>4.0</td>\n",
       "      <td>3.0</td>\n",
       "    </tr>\n",
       "    <tr>\n",
       "      <th>...</th>\n",
       "      <td>...</td>\n",
       "      <td>...</td>\n",
       "      <td>...</td>\n",
       "      <td>...</td>\n",
       "      <td>...</td>\n",
       "      <td>...</td>\n",
       "      <td>...</td>\n",
       "      <td>...</td>\n",
       "      <td>...</td>\n",
       "      <td>...</td>\n",
       "      <td>...</td>\n",
       "      <td>...</td>\n",
       "      <td>...</td>\n",
       "      <td>...</td>\n",
       "      <td>...</td>\n",
       "      <td>...</td>\n",
       "      <td>...</td>\n",
       "      <td>...</td>\n",
       "      <td>...</td>\n",
       "      <td>...</td>\n",
       "      <td>...</td>\n",
       "    </tr>\n",
       "    <tr>\n",
       "      <th>71196</th>\n",
       "      <td>CNR3193933852</td>\n",
       "      <td>CID442451</td>\n",
       "      <td>Success</td>\n",
       "      <td>Auto</td>\n",
       "      <td>Rajajinagar</td>\n",
       "      <td>Sarjapur Road</td>\n",
       "      <td>4.0</td>\n",
       "      <td>2024-07-19</td>\n",
       "      <td>7</td>\n",
       "      <td>Friday</td>\n",
       "      <td>...</td>\n",
       "      <td>Morning</td>\n",
       "      <td>126.0</td>\n",
       "      <td>40.0</td>\n",
       "      <td>Reason not mentioned</td>\n",
       "      <td>Reason not specified</td>\n",
       "      <td>No</td>\n",
       "      <td>325.0</td>\n",
       "      <td>UPI</td>\n",
       "      <td>4.6</td>\n",
       "      <td>3.4</td>\n",
       "    </tr>\n",
       "    <tr>\n",
       "      <th>71197</th>\n",
       "      <td>CNR3906366271</td>\n",
       "      <td>CID538007</td>\n",
       "      <td>Success</td>\n",
       "      <td>Prime Plus</td>\n",
       "      <td>Electronic City</td>\n",
       "      <td>Varthur</td>\n",
       "      <td>28.0</td>\n",
       "      <td>2024-07-16</td>\n",
       "      <td>7</td>\n",
       "      <td>Tuesday</td>\n",
       "      <td>...</td>\n",
       "      <td>Morning</td>\n",
       "      <td>49.0</td>\n",
       "      <td>30.0</td>\n",
       "      <td>Reason not mentioned</td>\n",
       "      <td>Reason not specified</td>\n",
       "      <td>No</td>\n",
       "      <td>154.0</td>\n",
       "      <td>Cash</td>\n",
       "      <td>3.6</td>\n",
       "      <td>3.6</td>\n",
       "    </tr>\n",
       "    <tr>\n",
       "      <th>71198</th>\n",
       "      <td>CNR4789445170</td>\n",
       "      <td>CID382728</td>\n",
       "      <td>Canceled by Customer</td>\n",
       "      <td>Prime Plus</td>\n",
       "      <td>Sahakar Nagar</td>\n",
       "      <td>Rajarajeshwari Nagar</td>\n",
       "      <td>0.0</td>\n",
       "      <td>2024-07-03</td>\n",
       "      <td>7</td>\n",
       "      <td>Wednesday</td>\n",
       "      <td>...</td>\n",
       "      <td>Night</td>\n",
       "      <td>NaN</td>\n",
       "      <td>NaN</td>\n",
       "      <td>Driver is not moving towards pickup location</td>\n",
       "      <td>Reason not specified</td>\n",
       "      <td>Nothing Mentioned</td>\n",
       "      <td>447.0</td>\n",
       "      <td>Not Provided</td>\n",
       "      <td>NaN</td>\n",
       "      <td>NaN</td>\n",
       "    </tr>\n",
       "    <tr>\n",
       "      <th>71199</th>\n",
       "      <td>CNR5806198441</td>\n",
       "      <td>CID686055</td>\n",
       "      <td>Canceled by Driver</td>\n",
       "      <td>Bike</td>\n",
       "      <td>Rajarajeshwari Nagar</td>\n",
       "      <td>Electronic City</td>\n",
       "      <td>0.0</td>\n",
       "      <td>2024-07-29</td>\n",
       "      <td>7</td>\n",
       "      <td>Monday</td>\n",
       "      <td>...</td>\n",
       "      <td>Afternoon</td>\n",
       "      <td>NaN</td>\n",
       "      <td>NaN</td>\n",
       "      <td>Reason not mentioned</td>\n",
       "      <td>Customer was coughing/sick</td>\n",
       "      <td>Nothing Mentioned</td>\n",
       "      <td>833.0</td>\n",
       "      <td>Not Provided</td>\n",
       "      <td>NaN</td>\n",
       "      <td>NaN</td>\n",
       "    </tr>\n",
       "    <tr>\n",
       "      <th>71200</th>\n",
       "      <td>CNR4531167950</td>\n",
       "      <td>CID923283</td>\n",
       "      <td>Success</td>\n",
       "      <td>Prime SUV</td>\n",
       "      <td>BTM Layout</td>\n",
       "      <td>Sahakar Nagar</td>\n",
       "      <td>14.0</td>\n",
       "      <td>2024-07-19</td>\n",
       "      <td>7</td>\n",
       "      <td>Friday</td>\n",
       "      <td>...</td>\n",
       "      <td>Night</td>\n",
       "      <td>217.0</td>\n",
       "      <td>25.0</td>\n",
       "      <td>Reason not mentioned</td>\n",
       "      <td>Reason not specified</td>\n",
       "      <td>No</td>\n",
       "      <td>453.0</td>\n",
       "      <td>UPI</td>\n",
       "      <td>4.6</td>\n",
       "      <td>3.4</td>\n",
       "    </tr>\n",
       "  </tbody>\n",
       "</table>\n",
       "<p>71201 rows × 23 columns</p>\n",
       "</div>"
      ],
      "text/plain": [
       "          Booking_ID Customer_ID        Booking_Status Vehicle_Type  \\\n",
       "0      CNR7153255142   CID713523    Canceled by Driver  Prime Sedan   \n",
       "1      CNR2940424040   CID225428               Success         Bike   \n",
       "2      CNR2982357879   CID270156               Success    Prime SUV   \n",
       "3      CNR2395710036   CID581320  Canceled by Customer        eBike   \n",
       "4      CNR1797421769   CID939555               Success         Mini   \n",
       "...              ...         ...                   ...          ...   \n",
       "71196  CNR3193933852   CID442451               Success         Auto   \n",
       "71197  CNR3906366271   CID538007               Success   Prime Plus   \n",
       "71198  CNR4789445170   CID382728  Canceled by Customer   Prime Plus   \n",
       "71199  CNR5806198441   CID686055    Canceled by Driver         Bike   \n",
       "71200  CNR4531167950   CID923283               Success    Prime SUV   \n",
       "\n",
       "            Pickup_Location         Drop_Location  Ride_Distance   Only_Date  \\\n",
       "0               Tumkur Road              RT Nagar            0.0  2024-07-26   \n",
       "1               Magadi Road               Varthur           13.0  2024-07-25   \n",
       "2             Sahakar Nagar               Varthur           40.0  2024-07-30   \n",
       "3                HSR Layout           Vijayanagar            0.0  2024-07-22   \n",
       "4               Rajajinagar           Chamarajpet           45.0  2024-07-02   \n",
       "...                     ...                   ...            ...         ...   \n",
       "71196           Rajajinagar         Sarjapur Road            4.0  2024-07-19   \n",
       "71197       Electronic City               Varthur           28.0  2024-07-16   \n",
       "71198         Sahakar Nagar  Rajarajeshwari Nagar            0.0  2024-07-03   \n",
       "71199  Rajarajeshwari Nagar       Electronic City            0.0  2024-07-29   \n",
       "71200            BTM Layout         Sahakar Nagar           14.0  2024-07-19   \n",
       "\n",
       "       Month   Day_Name  ...  Time_Slot  V_TAT  C_TAT  \\\n",
       "0          7     Friday  ...  Afternoon    NaN    NaN   \n",
       "1          7   Thursday  ...      Night  203.0   30.0   \n",
       "2          7    Tuesday  ...    Evening  238.0  130.0   \n",
       "3          7     Monday  ...      Night    NaN    NaN   \n",
       "4          7    Tuesday  ...    Morning  252.0   80.0   \n",
       "...      ...        ...  ...        ...    ...    ...   \n",
       "71196      7     Friday  ...    Morning  126.0   40.0   \n",
       "71197      7    Tuesday  ...    Morning   49.0   30.0   \n",
       "71198      7  Wednesday  ...      Night    NaN    NaN   \n",
       "71199      7     Monday  ...  Afternoon    NaN    NaN   \n",
       "71200      7     Friday  ...      Night  217.0   25.0   \n",
       "\n",
       "                         Canceled_Rides_by_Customer  \\\n",
       "0                              Reason not mentioned   \n",
       "1                              Reason not mentioned   \n",
       "2                              Reason not mentioned   \n",
       "3      Driver is not moving towards pickup location   \n",
       "4                              Reason not mentioned   \n",
       "...                                             ...   \n",
       "71196                          Reason not mentioned   \n",
       "71197                          Reason not mentioned   \n",
       "71198  Driver is not moving towards pickup location   \n",
       "71199                          Reason not mentioned   \n",
       "71200                          Reason not mentioned   \n",
       "\n",
       "           Canceled_Rides_by_Driver   Incomplete_Rides Booking_Value  \\\n",
       "0      Personal & Car related issue  Nothing Mentioned         444.0   \n",
       "1              Reason not specified                 No         158.0   \n",
       "2              Reason not specified                 No         386.0   \n",
       "3              Reason not specified  Nothing Mentioned         384.0   \n",
       "4              Reason not specified                 No         822.0   \n",
       "...                             ...                ...           ...   \n",
       "71196          Reason not specified                 No         325.0   \n",
       "71197          Reason not specified                 No         154.0   \n",
       "71198          Reason not specified  Nothing Mentioned         447.0   \n",
       "71199    Customer was coughing/sick  Nothing Mentioned         833.0   \n",
       "71200          Reason not specified                 No         453.0   \n",
       "\n",
       "      Payment_Method Driver_Ratings  Customer_Rating  \n",
       "0       Not Provided            NaN              NaN  \n",
       "1               Cash            4.1              4.0  \n",
       "2                UPI            4.2              4.8  \n",
       "3       Not Provided            NaN              NaN  \n",
       "4        Credit Card            4.0              3.0  \n",
       "...              ...            ...              ...  \n",
       "71196            UPI            4.6              3.4  \n",
       "71197           Cash            3.6              3.6  \n",
       "71198   Not Provided            NaN              NaN  \n",
       "71199   Not Provided            NaN              NaN  \n",
       "71200            UPI            4.6              3.4  \n",
       "\n",
       "[71201 rows x 23 columns]"
      ]
     },
     "execution_count": 88,
     "metadata": {},
     "output_type": "execute_result"
    }
   ],
   "source": [
    "data"
   ]
  },
  {
   "cell_type": "markdown",
   "id": "119ba924-7a29-4e3a-9eda-f657c72e30aa",
   "metadata": {},
   "source": [
    "<h1>Cancellation rate by day</h1>"
   ]
  },
  {
   "cell_type": "code",
   "execution_count": 7,
   "id": "6bc816db-4876-443d-b80f-2981b7645549",
   "metadata": {},
   "outputs": [
    {
     "data": {
      "text/plain": [
       "Day_Name\n",
       "Friday        9392\n",
       "Monday       11976\n",
       "Saturday      9523\n",
       "Sunday        9251\n",
       "Thursday      9407\n",
       "Tuesday      12130\n",
       "Wednesday     9522\n",
       "dtype: int64"
      ]
     },
     "execution_count": 7,
     "metadata": {},
     "output_type": "execute_result"
    }
   ],
   "source": [
    "# Example: Cancellation rate by day\n",
    "total_by_day = data.groupby('Day_Name').size()\n",
    "\n",
    "total_by_day"
   ]
  },
  {
   "cell_type": "code",
   "execution_count": 10,
   "id": "ae552f85-b8a4-44b8-b636-d21ee80c6e40",
   "metadata": {},
   "outputs": [
    {
     "data": {
      "text/plain": [
       "Day_Name\n",
       "Friday       3565\n",
       "Monday       4572\n",
       "Saturday     3570\n",
       "Sunday       3472\n",
       "Thursday     3563\n",
       "Tuesday      4553\n",
       "Wednesday    3635\n",
       "dtype: int64"
      ]
     },
     "execution_count": 10,
     "metadata": {},
     "output_type": "execute_result"
    }
   ],
   "source": [
    "cancelled_by_day = cancelled_rides.groupby('Day_Name').size()\n",
    "cancelled_by_day\n"
   ]
  },
  {
   "cell_type": "code",
   "execution_count": 11,
   "id": "f3ce2795-f333-448d-ba84-ce848673621f",
   "metadata": {},
   "outputs": [],
   "source": [
    "cancel_rate_by_day = (cancelled_by_day / total_by_day * 100).round(2).sort_values(ascending=False)"
   ]
  },
  {
   "cell_type": "code",
   "execution_count": 12,
   "id": "bfb4b6e2-5183-4c34-873a-5cd3b8add0d8",
   "metadata": {},
   "outputs": [
    {
     "data": {
      "text/plain": [
       "Day_Name\n",
       "Monday       38.18\n",
       "Wednesday    38.17\n",
       "Friday       37.96\n",
       "Thursday     37.88\n",
       "Tuesday      37.54\n",
       "Sunday       37.53\n",
       "Saturday     37.49\n",
       "dtype: float64"
      ]
     },
     "execution_count": 12,
     "metadata": {},
     "output_type": "execute_result"
    }
   ],
   "source": [
    "cancel_rate_by_day"
   ]
  },
  {
   "cell_type": "markdown",
   "id": "8cec8a10-c19b-43c5-9341-3a978913d6c4",
   "metadata": {},
   "source": [
    "<h1>Cancelation Rate by Time Slot</h1>"
   ]
  },
  {
   "cell_type": "code",
   "execution_count": 16,
   "id": "83c2456a-f360-4d8e-858d-057e9bea2885",
   "metadata": {},
   "outputs": [],
   "source": [
    "total_by_time_slot = data.groupby('Time_Slot').size()"
   ]
  },
  {
   "cell_type": "code",
   "execution_count": 17,
   "id": "caec3c59-6ded-41af-957f-2910eeeaa04f",
   "metadata": {},
   "outputs": [],
   "source": [
    "cancelled_by_time_slot = cancelled_rides.groupby('Time_Slot').size()"
   ]
  },
  {
   "cell_type": "code",
   "execution_count": 21,
   "id": "2e8ab4e4-b965-4969-84b6-96e3f93f8c90",
   "metadata": {},
   "outputs": [],
   "source": [
    "cancel_rate_by_time_slot = (cancelled_by_time_slot / total_by_time_slot * 100).round(2).sort_values(ascending=False)"
   ]
  },
  {
   "cell_type": "code",
   "execution_count": 22,
   "id": "1284d8a8-9d5a-4c57-bdfe-a4f914e544e1",
   "metadata": {},
   "outputs": [
    {
     "data": {
      "text/plain": [
       "Time_Slot\n",
       "Evening      37.99\n",
       "Morning      37.91\n",
       "Night        37.86\n",
       "Afternoon    37.52\n",
       "dtype: float64"
      ]
     },
     "execution_count": 22,
     "metadata": {},
     "output_type": "execute_result"
    }
   ],
   "source": [
    "cancel_rate_by_time_slot"
   ]
  },
  {
   "cell_type": "markdown",
   "id": "d46e150b-7733-4fd8-abd7-1d609ee5bdb7",
   "metadata": {},
   "source": [
    "<h1>Cancellation Rate By Pickup Location</h1>"
   ]
  },
  {
   "cell_type": "code",
   "execution_count": 34,
   "id": "b8654cb3-4a6f-4f41-95f6-f02f5d016eb3",
   "metadata": {},
   "outputs": [
    {
     "data": {
      "text/plain": [
       "Pickup_Location\n",
       "Langford Town    40.84\n",
       "Hosur Road       40.37\n",
       "Kengeri          39.99\n",
       "Vijayanagar      39.99\n",
       "Sahakar Nagar    39.77\n",
       "Name: count, dtype: float64"
      ]
     },
     "execution_count": 34,
     "metadata": {},
     "output_type": "execute_result"
    }
   ],
   "source": [
    "Total_by_Pickup_Location = data['Pickup_Location'].value_counts()\n",
    "Cancelled_by_Pickup_Location = cancelled_rides['Pickup_Location'].value_counts()\n",
    "Cancelled_Rate_by_Pickup_Location = (Cancelled_by_Pickup_Location / Total_by_Pickup_Location * 100).round(2).sort_values(ascending=False).head(5)\n",
    "Cancelled_Rate_by_Pickup_Location"
   ]
  },
  {
   "cell_type": "markdown",
   "id": "ef26fb23-53a5-4846-b69e-e93741d02b1c",
   "metadata": {},
   "source": [
    "<h1>Cancellation Rate By Drop Location</h1>"
   ]
  },
  {
   "cell_type": "code",
   "execution_count": 35,
   "id": "5c831a72-f94e-4e58-b743-9ce5ecd06082",
   "metadata": {},
   "outputs": [
    {
     "data": {
      "text/plain": [
       "Drop_Location\n",
       "Sarjapur Road    40.86\n",
       "Marathahalli     40.19\n",
       "Peenya           39.22\n",
       "Hosur Road       39.19\n",
       "Langford Town    39.13\n",
       "Name: count, dtype: float64"
      ]
     },
     "execution_count": 35,
     "metadata": {},
     "output_type": "execute_result"
    }
   ],
   "source": [
    "Total_by_Dropup_Location = data['Drop_Location'].value_counts()\n",
    "Cancelled_by_Dropup_Location = cancelled_rides['Drop_Location'].value_counts()\n",
    "Cancelled_Rate_by_Dropup_Location = (Cancelled_by_Dropup_Location / Total_by_Dropup_Location * 100).round(2).sort_values(ascending=False).head(5)\n",
    "Cancelled_Rate_by_Dropup_Location"
   ]
  },
  {
   "cell_type": "markdown",
   "id": "a568edc9-2734-4314-b03f-028dcd036ae5",
   "metadata": {},
   "source": [
    "<h4>Key Insights for the Client:</h4>\n",
    "\n",
    "<p>Langford Town appears in both pickup and drop top 5, with >39% cancel rate → likely an operational bottleneck or poor connectivity area.</p>\n",
    "\n",
    "<p>Hosur Road is another recurring location with a >40% cancel rate for both pickup and drop.</p>\n",
    "\n",
    "<p>These areas might suffer from:</p>\n",
    "\n",
    "<p>Low driver availability</p>\n",
    "\n",
    "<p>High traffic congestion</p>\n",
    "\n",
    "<p>Inaccurate location pinning in the app</p>"
   ]
  },
  {
   "cell_type": "markdown",
   "id": "b31adc3f-5d00-4b29-a5b9-4cca0b1f6af2",
   "metadata": {},
   "source": [
    "<h2>Pickup Location High Cancellation Alert: Langford Town & Hosur Road</h2>"
   ]
  },
  {
   "cell_type": "code",
   "execution_count": 39,
   "id": "63827c59-0331-44ef-bc59-483947f0c1a1",
   "metadata": {},
   "outputs": [],
   "source": [
    "Cancelation_By_Langford_Hosur_Location = cancelled_rides[cancelled_rides['Pickup_Location'].isin(['Langford Town','Hosur Road'])]"
   ]
  },
  {
   "cell_type": "code",
   "execution_count": 40,
   "id": "8935d25a-e2fd-4e48-8b6f-f07dbb7ae018",
   "metadata": {},
   "outputs": [
    {
     "data": {
      "text/plain": [
       "Booking_Status\n",
       "Canceled by Driver      548\n",
       "Driver Not Found        305\n",
       "Canceled by Customer    294\n",
       "Name: count, dtype: int64"
      ]
     },
     "execution_count": 40,
     "metadata": {},
     "output_type": "execute_result"
    }
   ],
   "source": [
    "Cancelation_By_Langford_Hosur_Location['Booking_Status'].value_counts()"
   ]
  },
  {
   "cell_type": "code",
   "execution_count": 41,
   "id": "148003ce-4338-42a5-b9a8-444d288bafd5",
   "metadata": {},
   "outputs": [
    {
     "data": {
      "text/plain": [
       "Vehicle_Type\n",
       "Prime SUV      185\n",
       "eBike          174\n",
       "Prime Plus     168\n",
       "Bike           167\n",
       "Mini           163\n",
       "Auto           147\n",
       "Prime Sedan    143\n",
       "Name: count, dtype: int64"
      ]
     },
     "execution_count": 41,
     "metadata": {},
     "output_type": "execute_result"
    }
   ],
   "source": [
    "Cancelation_By_Langford_Hosur_Location['Vehicle_Type'].value_counts()"
   ]
  },
  {
   "cell_type": "code",
   "execution_count": 43,
   "id": "20d52e59-719d-41f3-8c37-4f4e4eb20c51",
   "metadata": {},
   "outputs": [
    {
     "data": {
      "text/plain": [
       "Day_Name\n",
       "Tuesday      200\n",
       "Monday       195\n",
       "Thursday     165\n",
       "Wednesday    157\n",
       "Friday       152\n",
       "Saturday     144\n",
       "Sunday       134\n",
       "Name: count, dtype: int64"
      ]
     },
     "execution_count": 43,
     "metadata": {},
     "output_type": "execute_result"
    }
   ],
   "source": [
    "Cancelation_By_Langford_Hosur_Location['Day_Name'].value_counts()"
   ]
  },
  {
   "cell_type": "code",
   "execution_count": 44,
   "id": "0554c78b-266b-419f-b287-f483055381d5",
   "metadata": {},
   "outputs": [
    {
     "data": {
      "text/plain": [
       "Time_Slot\n",
       "Night        402\n",
       "Morning      339\n",
       "Afternoon    229\n",
       "Evening      177\n",
       "Name: count, dtype: int64"
      ]
     },
     "execution_count": 44,
     "metadata": {},
     "output_type": "execute_result"
    }
   ],
   "source": [
    "Cancelation_By_Langford_Hosur_Location['Time_Slot'].value_counts()"
   ]
  },
  {
   "cell_type": "markdown",
   "id": "ef0fbf07-c510-414f-b1fe-0538c336e7a9",
   "metadata": {},
   "source": [
    "<p>\"Langford Town and Hosur Road are severe cancellation hotspots, especially on weekdays during Night and Morning time slots. The issue is largely driven by driver-side constraints — cancellations and unavailability — cutting across premium and two-wheeler rides. These patterns result in frustrated commuters during peak office hours, impacting customer satisfaction and revenue recovery potential.\"</p>"
   ]
  },
  {
   "cell_type": "markdown",
   "id": "060cef30-d073-4a7b-aea5-901995a71fdd",
   "metadata": {},
   "source": [
    "<h2>Drop Location High Cancellation Alert: Langford Town & Hosur Road</h2>"
   ]
  },
  {
   "cell_type": "code",
   "execution_count": 46,
   "id": "89da73bd-b9d5-4a8e-95ff-5ade46a7f6fd",
   "metadata": {},
   "outputs": [],
   "source": [
    "Drop_Cancelation_By_Langford_Hosur_Location = cancelled_rides[cancelled_rides['Drop_Location'].isin(['Langford Town','Hosur Road'])]"
   ]
  },
  {
   "cell_type": "code",
   "execution_count": 47,
   "id": "e0523470-5a2f-4811-8205-4eaff7bb2ce2",
   "metadata": {},
   "outputs": [
    {
     "data": {
      "text/plain": [
       "Booking_Status\n",
       "Canceled by Driver      530\n",
       "Canceled by Customer    296\n",
       "Driver Not Found        294\n",
       "Name: count, dtype: int64"
      ]
     },
     "execution_count": 47,
     "metadata": {},
     "output_type": "execute_result"
    }
   ],
   "source": [
    "Drop_Cancelation_By_Langford_Hosur_Location['Booking_Status'].value_counts()"
   ]
  },
  {
   "cell_type": "code",
   "execution_count": 48,
   "id": "b89fe1a1-0b1b-4cd5-b278-5af2848103b2",
   "metadata": {},
   "outputs": [
    {
     "data": {
      "text/plain": [
       "Vehicle_Type\n",
       "Prime Sedan    183\n",
       "eBike          176\n",
       "Prime Plus     165\n",
       "Prime SUV      158\n",
       "Bike           151\n",
       "Auto           148\n",
       "Mini           139\n",
       "Name: count, dtype: int64"
      ]
     },
     "execution_count": 48,
     "metadata": {},
     "output_type": "execute_result"
    }
   ],
   "source": [
    "Drop_Cancelation_By_Langford_Hosur_Location['Vehicle_Type'].value_counts()"
   ]
  },
  {
   "cell_type": "code",
   "execution_count": 49,
   "id": "46c5ddaa-4b5e-4a0d-81f9-5245e0b554ca",
   "metadata": {},
   "outputs": [
    {
     "data": {
      "text/plain": [
       "Day_Name\n",
       "Monday       184\n",
       "Tuesday      183\n",
       "Saturday     160\n",
       "Sunday       157\n",
       "Wednesday    154\n",
       "Friday       151\n",
       "Thursday     131\n",
       "Name: count, dtype: int64"
      ]
     },
     "execution_count": 49,
     "metadata": {},
     "output_type": "execute_result"
    }
   ],
   "source": [
    "Drop_Cancelation_By_Langford_Hosur_Location['Day_Name'].value_counts()"
   ]
  },
  {
   "cell_type": "code",
   "execution_count": 50,
   "id": "273145a4-1349-4cd0-870a-8622ff60c2bb",
   "metadata": {},
   "outputs": [
    {
     "data": {
      "text/plain": [
       "Time_Slot\n",
       "Night        357\n",
       "Morning      317\n",
       "Afternoon    266\n",
       "Evening      180\n",
       "Name: count, dtype: int64"
      ]
     },
     "execution_count": 50,
     "metadata": {},
     "output_type": "execute_result"
    }
   ],
   "source": [
    "Drop_Cancelation_By_Langford_Hosur_Location['Time_Slot'].value_counts()"
   ]
  },
  {
   "cell_type": "markdown",
   "id": "739696b1-7c6d-4115-82e6-870e9c974e03",
   "metadata": {},
   "source": [
    "<p>“Langford Town and Hosur Road consistently show high cancellation rates as both pickup and drop locations. The bulk of cancellations are during Night and Morning hours, with the majority caused by drivers rejecting or failing to complete rides. The cancellations are spread across all vehicle categories, especially Prime and two-wheeler options, indicating systemic inefficiencies. This strongly suggests the need for localized, time-sensitive interventions.”</p>"
   ]
  },
  {
   "cell_type": "markdown",
   "id": "27630ff6-4ad7-4024-ab06-c58649adaa24",
   "metadata": {},
   "source": [
    "<h1>Repeat Cancellers Insight Report</h1>"
   ]
  },
  {
   "cell_type": "code",
   "execution_count": 108,
   "id": "9552c20b-bc09-4565-89bd-0c27f36c7e4d",
   "metadata": {},
   "outputs": [
    {
     "name": "stdout",
     "output_type": "stream",
     "text": [
      "750\n"
     ]
    }
   ],
   "source": [
    "repeat_cancelled_rides = cancelled_rides[cancelled_rides['Customer_ID'].isin(\n",
    "    cancelled_rides['Customer_ID'].value_counts()[lambda x: x >= 2].index\n",
    ")]\n",
    "print(repeat_cancelled_rides['Booking_ID'].count())\n",
    "\n",
    "# 750 rides have been cancelled more than 2 times."
   ]
  },
  {
   "cell_type": "code",
   "execution_count": 109,
   "id": "0bce089a-15ca-4de6-ab69-749d5613d30c",
   "metadata": {},
   "outputs": [],
   "source": [
    "ID_OF_CUST_WITH_FREQUENT_CANCELLATION = repeat_cancelled_rides.groupby('Customer_ID').size().keys()"
   ]
  },
  {
   "cell_type": "code",
   "execution_count": 110,
   "id": "a63371f0-2072-4e52-b401-f2f727aaf6ef",
   "metadata": {},
   "outputs": [
    {
     "name": "stdout",
     "output_type": "stream",
     "text": [
      "372\n"
     ]
    }
   ],
   "source": [
    "sum = 0\n",
    "for i in ID_OF_CUST_WITH_FREQUENT_CANCELLATION:\n",
    "    sum = sum + 1\n",
    "\n",
    "print(sum)\n",
    "\n",
    "# 372 customers are involved in repeatative cancellation case."
   ]
  },
  {
   "cell_type": "code",
   "execution_count": 81,
   "id": "73422ff3-5fd5-43a8-82d3-14c668572542",
   "metadata": {},
   "outputs": [
    {
     "data": {
      "text/plain": [
       "Booking_Status\n",
       "Canceled by Driver      363\n",
       "Driver Not Found        194\n",
       "Canceled by Customer    193\n",
       "Name: count, dtype: int64"
      ]
     },
     "execution_count": 81,
     "metadata": {},
     "output_type": "execute_result"
    }
   ],
   "source": [
    "repeat_cancelled_rides['Booking_Status'].value_counts()"
   ]
  },
  {
   "cell_type": "code",
   "execution_count": 112,
   "id": "f7e911d3-40e5-42d2-9237-20f72b66b2f7",
   "metadata": {},
   "outputs": [
    {
     "data": {
      "text/plain": [
       "Day_Name\n",
       "Monday       140\n",
       "Tuesday      116\n",
       "Thursday     109\n",
       "Wednesday    106\n",
       "Saturday     105\n",
       "Friday        95\n",
       "Sunday        79\n",
       "Name: count, dtype: int64"
      ]
     },
     "execution_count": 112,
     "metadata": {},
     "output_type": "execute_result"
    }
   ],
   "source": [
    "repeat_cancelled_rides['Day_Name'].value_counts()"
   ]
  },
  {
   "cell_type": "code",
   "execution_count": 113,
   "id": "f570c9fc-98bc-456f-a909-b2c7540faf71",
   "metadata": {},
   "outputs": [
    {
     "data": {
      "text/plain": [
       "Time_Slot\n",
       "Night        254\n",
       "Morning      200\n",
       "Afternoon    153\n",
       "Evening      143\n",
       "Name: count, dtype: int64"
      ]
     },
     "execution_count": 113,
     "metadata": {},
     "output_type": "execute_result"
    }
   ],
   "source": [
    "repeat_cancelled_rides['Time_Slot'].value_counts()"
   ]
  },
  {
   "cell_type": "code",
   "execution_count": 115,
   "id": "376d9d82-63a4-440f-851d-3691cae35c46",
   "metadata": {},
   "outputs": [
    {
     "data": {
      "text/plain": [
       "Canceled_Rides_by_Driver\n",
       "Personal & Car related issue           132\n",
       "Customer related issue                 101\n",
       "Customer was coughing/sick              80\n",
       "More than permitted people in there     50\n",
       "Name: count, dtype: int64"
      ]
     },
     "execution_count": 115,
     "metadata": {},
     "output_type": "execute_result"
    }
   ],
   "source": [
    "repeat_cancelled_rides['Canceled_Rides_by_Driver'].value_counts().iloc[1:]"
   ]
  },
  {
   "cell_type": "code",
   "execution_count": 118,
   "id": "66fe025d-ebd2-43e4-9175-7fdcaf7795d0",
   "metadata": {},
   "outputs": [
    {
     "data": {
      "text/plain": [
       "Canceled_Rides_by_Customer\n",
       "Driver is not moving towards pickup location    55\n",
       "Driver asked to cancel                          44\n",
       "Change of plans                                 42\n",
       "AC is Not working                               32\n",
       "Wrong Address                                   20\n",
       "Name: count, dtype: int64"
      ]
     },
     "execution_count": 118,
     "metadata": {},
     "output_type": "execute_result"
    }
   ],
   "source": [
    "repeat_cancelled_rides['Canceled_Rides_by_Customer'].value_counts().iloc[1:]"
   ]
  },
  {
   "cell_type": "markdown",
   "id": "fde343b5-40d9-461b-8cb3-3f3c9d963d05",
   "metadata": {},
   "source": [
    "<p>\n",
    "    Executive Summary:\n",
    "750 ride cancellations were made by customers who had cancelled 2 or more times.\n",
    "\n",
    "These bookings came from 372 unique customers, representing a sizable chunk of repeat cancellation behavior.\n",
    "\n",
    "Both driver-side and customer-side issues were involved — indicating a two-way breakdown in the ride fulfillment process.\n",
    "</p>\n",
    "<p>\n",
    "    A detailed analysis of repeat ride cancellations revealed that 372 customers were responsible for 750 cancelled rides, indicating a significant pattern of habitual cancellation behavior. Nearly 74% of these cancellations were due to driver-side issues—either cancellations or unavailability—suggesting possible negative sentiment or avoidance of certain customers by drivers. These repeat cancellations primarily occurred on weekdays, especially Mondays and Tuesdays, and were heavily concentrated during Night and Morning time slots, disrupting peak commute hours. The most common reasons cited by drivers included personal or vehicle-related issues and discomfort with customer behavior, while customers often canceled due to drivers not moving toward pickup locations or asking them to cancel. This behavior cluster points to systemic issues in matching reliability, route planning, and trust between parties. Addressing this segment through better driver-customer matching, incentive adjustments, and flagging high-risk users could meaningfully reduce cancellations, improve platform efficiency, and enhance overall customer experience.\n",
    "</p>"
   ]
  },
  {
   "cell_type": "code",
   "execution_count": null,
   "id": "0a53cc39-4d5f-4406-a197-3c32cca963fc",
   "metadata": {},
   "outputs": [],
   "source": []
  }
 ],
 "metadata": {
  "kernelspec": {
   "display_name": "Python 3 (ipykernel)",
   "language": "python",
   "name": "python3"
  },
  "language_info": {
   "codemirror_mode": {
    "name": "ipython",
    "version": 3
   },
   "file_extension": ".py",
   "mimetype": "text/x-python",
   "name": "python",
   "nbconvert_exporter": "python",
   "pygments_lexer": "ipython3",
   "version": "3.12.7"
  }
 },
 "nbformat": 4,
 "nbformat_minor": 5
}
